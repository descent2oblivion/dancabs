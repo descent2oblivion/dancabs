{
 "cells": [
  {
   "cell_type": "code",
   "execution_count": 1,
   "metadata": {},
   "outputs": [
    {
     "data": {
      "text/html": [
       "   <div id=\"MxAmnf\"></div>\n",
       "   <script type=\"text/javascript\" data-lets-plot-script=\"library\">\n",
       "       if(!window.letsPlotCallQueue) {\n",
       "           window.letsPlotCallQueue = [];\n",
       "       }; \n",
       "       window.letsPlotCall = function(f) {\n",
       "           window.letsPlotCallQueue.push(f);\n",
       "       };\n",
       "       (function() {\n",
       "           var script = document.createElement(\"script\");\n",
       "           script.type = \"text/javascript\";\n",
       "           script.src = \"https://dl.bintray.com/jetbrains/lets-plot/lets-plot-1.4.2.min.js\";\n",
       "           script.onload = function() {\n",
       "               window.letsPlotCall = function(f) {f();};\n",
       "               window.letsPlotCallQueue.forEach(function(f) {f();});\n",
       "               window.letsPlotCallQueue = [];\n",
       "               \n",
       "               \n",
       "           };\n",
       "           script.onerror = function(event) {\n",
       "               window.letsPlotCall = function(f) {};\n",
       "               window.letsPlotCallQueue = [];\n",
       "               var div = document.createElement(\"div\");\n",
       "               div.style.color = 'darkred';\n",
       "               div.textContent = 'Error loading Lets-Plot JS';\n",
       "               document.getElementById(\"MxAmnf\").appendChild(div);\n",
       "           };\n",
       "           var e = document.getElementById(\"MxAmnf\");\n",
       "           e.appendChild(script);\n",
       "       })();\n",
       "   </script>"
      ]
     },
     "metadata": {},
     "output_type": "display_data"
    }
   ],
   "source": [
    "%use lets-plot"
   ]
  },
  {
   "cell_type": "code",
   "execution_count": 2,
   "metadata": {},
   "outputs": [],
   "source": [
    "class gBar(titulo : String, cantidades : Any, conceptos : Any){\n",
    "    private var datos = mapOf<String, Any>(\n",
    "        \"Cantidad\" to cantidades,\n",
    "        \"Conceptos\" to conceptos\n",
    "    )\n",
    "    \n",
    "    private var z = lets_plot(datos)\n",
    "    \n",
    "    private var layer = geom_bar(stat = Stat.identity){\n",
    "        x = \"Conceptos\"\n",
    "        y = \"Cantidad\"\n",
    "        fill = \"Conceptos\"\n",
    "    }\n",
    "    \n",
    "    \n",
    "    var graph = z + layer\n",
    "    \n",
    "    init{\n",
    "        graph = (z + layer + ggtitle(titulo))\n",
    "    }\n",
    "}"
   ]
  },
  {
   "cell_type": "code",
   "execution_count": 3,
   "metadata": {},
   "outputs": [],
   "source": [
    "class gLin(titulo : String, cantidades : Any, conceptos : Any){\n",
    "    private var datos = mapOf<String, Any>(\n",
    "        \"Cantidad\" to cantidades,\n",
    "        \"Conceptos\" to conceptos\n",
    "    )\n",
    "    \n",
    "    private var z = lets_plot(datos)\n",
    "    \n",
    "    private var layer = geom_line(stat = Stat.identity){\n",
    "        x = \"Conceptos\"\n",
    "        y = \"Cantidad\"\n",
    "    }\n",
    "    \n",
    "    \n",
    "    var graph = z + layer\n",
    "    \n",
    "    init{\n",
    "        graph = (z + layer + ggtitle(titulo))\n",
    "    }\n",
    "}"
   ]
  },
  {
   "cell_type": "code",
   "execution_count": 39,
   "metadata": {},
   "outputs": [
    {
     "data": {
      "text/html": [
       "   <div id=\"WyYay2\"></div>\n",
       "   <script type=\"text/javascript\" data-lets-plot-script=\"plot\">\n",
       "       (function() {\n",
       "           var plotSpec={\n",
       "'ggtitle':{\n",
       "'text':\"Historia de la empresa\"\n",
       "},\n",
       "'mapping':{\n",
       "},\n",
       "'data':{\n",
       "'Conceptos':[\"junio '18\",\"julio '18\",\"agosto '18\",\"septiembre '18\",\"octubre '18\",\"noviembre '18\",\"diciembre '18\",\"enero '19\",\"febrero '19\",\"marzo '19\",\"abril '19\",\"mayo '19\",\"junio '19\",\"julio '19\",\"agosto '19\",\"septiembre '19\",\"octubre '19\",\"noviembre '19\",\"diciembre '19\",\"enero '20\",\"febrero '20\",\"marzo '20\",\"abril '20\",\"mayo '20\",\"junio '20\",\"julio '20\"],\n",
       "'Cantidad':[1062.0,718.0,861.0,2724.0,3472.0,1761.0,1501.0,3207.0,2886.0,1834.0,1846.0,3168.0,2145.0,672.0,2805.0,3599.0,5007.0,2053.0,3791.0,2629.0,2053.0,3308.0,5652.0,6102.0,8249.0,9600.0]\n",
       "},\n",
       "'kind':\"plot\",\n",
       "'scales':[],\n",
       "'layers':[{\n",
       "'stat':\"identity\",\n",
       "'mapping':{\n",
       "'x':\"Conceptos\",\n",
       "'y':\"Cantidad\"\n",
       "},\n",
       "'data':{\n",
       "},\n",
       "'position':\"identity\",\n",
       "'geom':\"line\"\n",
       "}]\n",
       "};\n",
       "           var plotContainer = document.getElementById(\"WyYay2\");\n",
       "           window.letsPlotCall(function() {{\n",
       "               LetsPlot.buildPlotFromProcessedSpecs(plotSpec, -1, -1, plotContainer);\n",
       "           }});\n",
       "       })();    \n",
       "   </script>"
      ]
     },
     "execution_count": 39,
     "metadata": {},
     "output_type": "execute_result"
    }
   ],
   "source": [
    "var mTodo = listOf(\n",
    "                    \"junio '18\", \"julio '18\", \"agosto '18\",\n",
    "                    \"septiembre '18\", \"octubre '18\", \"noviembre '18\",\n",
    "                    \"diciembre '18\", \n",
    "                      \n",
    "                    //enero 2019\n",
    "                    \"enero '19\", \"febrero '19\", \"marzo '19\", \n",
    "                    \"abril '19\", \"mayo '19\", \"junio '19\", \n",
    "                    \"julio '19\",  \"agosto '19\",\"septiembre '19\", \n",
    "                    \"octubre '19\", \"noviembre '19\", \"diciembre '19\",\n",
    "                      \n",
    "                    //enero 2020\n",
    "                    \"enero '20\", \"febrero '20\", \"marzo '20\", \n",
    "                    \"abril '20\", \"mayo '20\", \"junio '20\", \n",
    "                      \n",
    "                    //este mes\n",
    "                    \"julio '20\")\n",
    "    \n",
    "var vTodo = listOf(\n",
    "                     1062, 718, 861,\n",
    "                     2724, 3472, 1761,\n",
    "                     1501,\n",
    "                      \n",
    "                     //\"enero 2019\"\n",
    "                     3207, 2886, 1834,\n",
    "                     1846, 3168, 2145,\n",
    "                     672,  2805, 3599,\n",
    "                     5007, 2053, 3791,\n",
    "        \n",
    "                     //\"enero 2020\"\n",
    "                     2629, 2053, 3308,\n",
    "                     5652, 6102, 8249,\n",
    "                      \n",
    "                     //\"Este mes\"\n",
    "                     9600)\n",
    "\n",
    "var gTodo = gLin(\"Historia de la empresa\", vTodo, mTodo)\n",
    "gTodo.graph"
   ]
  },
  {
   "cell_type": "code",
   "execution_count": 4,
   "metadata": {},
   "outputs": [
    {
     "name": "stdout",
     "output_type": "stream",
     "text": [
      "Abril: 5,652 \n",
      "Mayo: 6,102 \n",
      "Junio: 8,249 \n",
      "Julio: 9600 \n",
      "Total: 29,603\r\n"
     ]
    },
    {
     "data": {
      "text/html": [
       "   <div id=\"IYdgyy\"></div>\n",
       "   <script type=\"text/javascript\" data-lets-plot-script=\"plot\">\n",
       "       (function() {\n",
       "           var plotSpec={\n",
       "'ggtitle':{\n",
       "'text':\"2020\"\n",
       "},\n",
       "'mapping':{\n",
       "},\n",
       "'data':{\n",
       "'Conceptos':[\"Abril\",\"Mayo\",\"Junio\",\"Julio\"],\n",
       "'Cantidad':[5652.0,6102.0,8249.0,9600.0]\n",
       "},\n",
       "'kind':\"plot\",\n",
       "'scales':[],\n",
       "'layers':[{\n",
       "'stat':\"identity\",\n",
       "'mapping':{\n",
       "'x':\"Conceptos\",\n",
       "'y':\"Cantidad\"\n",
       "},\n",
       "'data':{\n",
       "},\n",
       "'position':\"identity\",\n",
       "'geom':\"line\"\n",
       "}]\n",
       "};\n",
       "           var plotContainer = document.getElementById(\"IYdgyy\");\n",
       "           window.letsPlotCall(function() {{\n",
       "               LetsPlot.buildPlotFromProcessedSpecs(plotSpec, -1, -1, plotContainer);\n",
       "           }});\n",
       "       })();    \n",
       "   </script>"
      ]
     },
     "execution_count": 4,
     "metadata": {},
     "output_type": "execute_result"
    }
   ],
   "source": [
    "var dAC = listOf(5652, 6102, 8249, 9600)\n",
    "var meses = listOf(\"Abril\", \"Mayo\", \"Junio\", \"Julio\")\n",
    "\n",
    "var gBA = gLin(\"2020\", dAC, meses)\n",
    "\n",
    "\n",
    "println(\"Abril: 5,652 \\nMayo: 6,102 \\nJunio: 8,249 \\nJulio: 9,600 \\nTotal: 29,603\")\n",
    "gBA.graph"
   ]
  },
  {
   "cell_type": "code",
   "execution_count": 14,
   "metadata": {},
   "outputs": [
    {
     "name": "stdout",
     "output_type": "stream",
     "text": [
      "Desde abril se han vendido 1700 piedras sueltas y 30 collares\r\n"
     ]
    },
    {
     "data": {
      "text/html": [
       "   <div id=\"23RZVJ\"></div>\n",
       "   <script type=\"text/javascript\" data-lets-plot-script=\"plot\">\n",
       "       (function() {\n",
       "           var plotSpec={\n",
       "'ggtitle':{\n",
       "'text':\"Ventas desde abril 2020\"\n",
       "},\n",
       "'mapping':{\n",
       "},\n",
       "'data':{\n",
       "'Conceptos':[\"Piedras sueltas\",\"collares\"],\n",
       "'Cantidad':[1700.0,30.0]\n",
       "},\n",
       "'kind':\"plot\",\n",
       "'scales':[],\n",
       "'layers':[{\n",
       "'stat':\"identity\",\n",
       "'mapping':{\n",
       "'x':\"Conceptos\",\n",
       "'y':\"Cantidad\",\n",
       "'fill':\"Conceptos\"\n",
       "},\n",
       "'data':{\n",
       "},\n",
       "'position':\"stack\",\n",
       "'geom':\"bar\"\n",
       "}]\n",
       "};\n",
       "           var plotContainer = document.getElementById(\"23RZVJ\");\n",
       "           window.letsPlotCall(function() {{\n",
       "               LetsPlot.buildPlotFromProcessedSpecs(plotSpec, -1, -1, plotContainer);\n",
       "           }});\n",
       "       })();    \n",
       "   </script>"
      ]
     },
     "execution_count": 14,
     "metadata": {},
     "output_type": "execute_result"
    }
   ],
   "source": [
    "var cant_v = listOf(1700, 30)\n",
    "var conc_v = listOf(\"Piedras sueltas\", \"collares\")\n",
    "\n",
    "var vtas = gBar(\"Ventas desde abril 2020\", cant_v, conc_v)\n",
    "\n",
    "println(\"Desde abril se han vendido 1700 piedras sueltas y 30 collares\")\n",
    "vtas.graph"
   ]
  },
  {
   "cell_type": "code",
   "execution_count": 25,
   "metadata": {},
   "outputs": [
    {
     "name": "stdout",
     "output_type": "stream",
     "text": [
      "Cada collar en promedio vale 75 y cada piedra 13\n",
      "30 collares = $2250 \n",
      "1700 piedras = $22100 \n",
      "\n",
      "Total: $24350"
     ]
    },
    {
     "data": {
      "text/html": [
       "   <div id=\"WGGAjr\"></div>\n",
       "   <script type=\"text/javascript\" data-lets-plot-script=\"plot\">\n",
       "       (function() {\n",
       "           var plotSpec={\n",
       "'ggtitle':{\n",
       "'text':\"Relacion de costos y total\"\n",
       "},\n",
       "'mapping':{\n",
       "},\n",
       "'data':{\n",
       "'Conceptos':[\"Piedras\",\"Collares\",\"Total\"],\n",
       "'Cantidad':[22100.0,2250.0,24350.0]\n",
       "},\n",
       "'kind':\"plot\",\n",
       "'scales':[],\n",
       "'layers':[{\n",
       "'stat':\"identity\",\n",
       "'mapping':{\n",
       "'x':\"Conceptos\",\n",
       "'y':\"Cantidad\",\n",
       "'fill':\"Conceptos\"\n",
       "},\n",
       "'data':{\n",
       "},\n",
       "'position':\"stack\",\n",
       "'geom':\"bar\"\n",
       "}]\n",
       "};\n",
       "           var plotContainer = document.getElementById(\"WGGAjr\");\n",
       "           window.letsPlotCall(function() {{\n",
       "               LetsPlot.buildPlotFromProcessedSpecs(plotSpec, -1, -1, plotContainer);\n",
       "           }});\n",
       "       })();    \n",
       "   </script>"
      ]
     },
     "execution_count": 25,
     "metadata": {},
     "output_type": "execute_result"
    }
   ],
   "source": [
    "var collar = 75\n",
    "var c_col = 30\n",
    "var t_col = collar * c_col\n",
    "\n",
    "var piedra = 13\n",
    "var c_pi = 1700\n",
    "var t_pi = piedra * c_pi\n",
    "\n",
    "var todo = t_col + t_pi\n",
    "\n",
    "var texto = \"Cada collar en promedio vale ${collar} y cada piedra ${13}\\n\" +\n",
    "    \"${c_col} collares = \\$${t_col} \\n\" + \n",
    "    \"${c_pi} piedras = \\$${t_pi} \\n\\n\" + \n",
    "    \"Total: \\$${todo}\"\n",
    "\n",
    "\n",
    "var poc = listOf(\"Piedras\", \"Collares\", \"Total\")\n",
    "var costos = listOf(t_pi, t_col, todo)\n",
    "var grafica = gBar(\"Relacion de costos y total\", costos, poc)\n",
    "print(texto)\n",
    "grafica.graph"
   ]
  },
  {
   "cell_type": "code",
   "execution_count": 27,
   "metadata": {},
   "outputs": [
    {
     "name": "stdout",
     "output_type": "stream",
     "text": [
      "Julio: 718 \n",
      "Agosto: 861 \n",
      "Septiembre: 2,724 \n",
      "Octubre: 3,472\r\n"
     ]
    },
    {
     "data": {
      "text/html": [
       "   <div id=\"pZQFhL\"></div>\n",
       "   <script type=\"text/javascript\" data-lets-plot-script=\"plot\">\n",
       "       (function() {\n",
       "           var plotSpec={\n",
       "'ggtitle':{\n",
       "'text':\"Jul - Sept 2018: La primera Subida\"\n",
       "},\n",
       "'mapping':{\n",
       "},\n",
       "'data':{\n",
       "'Conceptos':[\"julio '18\",\"agosto '18\",\"septiembre '18\",\"octubre '18\"],\n",
       "'Cantidad':[718.0,861.0,2724.0,3472.0]\n",
       "},\n",
       "'kind':\"plot\",\n",
       "'scales':[],\n",
       "'layers':[{\n",
       "'stat':\"identity\",\n",
       "'mapping':{\n",
       "'x':\"Conceptos\",\n",
       "'y':\"Cantidad\"\n",
       "},\n",
       "'data':{\n",
       "},\n",
       "'position':\"identity\",\n",
       "'geom':\"line\"\n",
       "}]\n",
       "};\n",
       "           var plotContainer = document.getElementById(\"pZQFhL\");\n",
       "           window.letsPlotCall(function() {{\n",
       "               LetsPlot.buildPlotFromProcessedSpecs(plotSpec, -1, -1, plotContainer);\n",
       "           }});\n",
       "       })();    \n",
       "   </script>"
      ]
     },
     "execution_count": 27,
     "metadata": {},
     "output_type": "execute_result"
    }
   ],
   "source": [
    "var jasC = listOf(718, 861, 2724, 3472)\n",
    "var jasM = listOf(\"julio '18\", \"agosto '18\", \"septiembre '18\", \"octubre '18\")\n",
    "var jasG = gLin(\"Jul - Sept 2018: La primera Subida\", jasC, jasM)\n",
    "\n",
    "println(\"Julio: 718 \\nAgosto: 861 \\nSeptiembre: 2,724 \\nOctubre: 3,472\")\n",
    "jasG.graph"
   ]
  },
  {
   "cell_type": "code",
   "execution_count": 31,
   "metadata": {},
   "outputs": [
    {
     "name": "stdout",
     "output_type": "stream",
     "text": [
      "Octubre: 3,472 \n",
      "Noviembre: 1,761 \n",
      "Diciembre: 1,501"
     ]
    },
    {
     "data": {
      "text/html": [
       "   <div id=\"HTEWH0\"></div>\n",
       "   <script type=\"text/javascript\" data-lets-plot-script=\"plot\">\n",
       "       (function() {\n",
       "           var plotSpec={\n",
       "'ggtitle':{\n",
       "'text':\"Octubre - Diciembre 2018: La primera bajada\"\n",
       "},\n",
       "'mapping':{\n",
       "},\n",
       "'data':{\n",
       "'Conceptos':[\"octubre '18\",\"noviembre '18\",\"diciembre '18\"],\n",
       "'Cantidad':[3472.0,1761.0,1501.0]\n",
       "},\n",
       "'kind':\"plot\",\n",
       "'scales':[],\n",
       "'layers':[{\n",
       "'stat':\"identity\",\n",
       "'mapping':{\n",
       "'x':\"Conceptos\",\n",
       "'y':\"Cantidad\"\n",
       "},\n",
       "'data':{\n",
       "},\n",
       "'position':\"identity\",\n",
       "'geom':\"line\"\n",
       "}]\n",
       "};\n",
       "           var plotContainer = document.getElementById(\"HTEWH0\");\n",
       "           window.letsPlotCall(function() {{\n",
       "               LetsPlot.buildPlotFromProcessedSpecs(plotSpec, -1, -1, plotContainer);\n",
       "           }});\n",
       "       })();    \n",
       "   </script>"
      ]
     },
     "execution_count": 31,
     "metadata": {},
     "output_type": "execute_result"
    }
   ],
   "source": [
    "var ondC = listOf(3472, 1761, 1501)\n",
    "var ondM = listOf(\"octubre '18\", \"noviembre '18\", \"diciembre '18\")\n",
    "\n",
    "var texto = \"Octubre: 3,472 \\nNoviembre: 1,761 \\nDiciembre: 1,501\"\n",
    "var grafica = gLin(\"Octubre - Diciembre 2018: La primera bajada\", ondC, ondM)\n",
    "\n",
    "print(texto)\n",
    "grafica.graph"
   ]
  },
  {
   "cell_type": "code",
   "execution_count": 34,
   "metadata": {},
   "outputs": [
    {
     "name": "stdout",
     "output_type": "stream",
     "text": [
      "Diciembre '18: 1,501 \n",
      "Enero  '19: 3,207 \n",
      "Febrero  '19: 2,886 \n",
      "Marzo  '19: 1,834"
     ]
    },
    {
     "data": {
      "text/html": [
       "   <div id=\"QY1X3C\"></div>\n",
       "   <script type=\"text/javascript\" data-lets-plot-script=\"plot\">\n",
       "       (function() {\n",
       "           var plotSpec={\n",
       "'ggtitle':{\n",
       "'text':\"Enero - Febrero 2019: Los meses mas importantes\"\n",
       "},\n",
       "'mapping':{\n",
       "},\n",
       "'data':{\n",
       "'Conceptos':[\"diciembre '18\",\"enero '19\",\"febrero '19\",\"marzo '19\"],\n",
       "'Cantidad':[1501.0,3207.0,2886.0,1834.0]\n",
       "},\n",
       "'kind':\"plot\",\n",
       "'scales':[],\n",
       "'layers':[{\n",
       "'stat':\"identity\",\n",
       "'mapping':{\n",
       "'x':\"Conceptos\",\n",
       "'y':\"Cantidad\"\n",
       "},\n",
       "'data':{\n",
       "},\n",
       "'position':\"identity\",\n",
       "'geom':\"line\"\n",
       "}]\n",
       "};\n",
       "           var plotContainer = document.getElementById(\"QY1X3C\");\n",
       "           window.letsPlotCall(function() {{\n",
       "               LetsPlot.buildPlotFromProcessedSpecs(plotSpec, -1, -1, plotContainer);\n",
       "           }});\n",
       "       })();    \n",
       "   </script>"
      ]
     },
     "execution_count": 34,
     "metadata": {},
     "output_type": "execute_result"
    }
   ],
   "source": [
    "var defmC = listOf(1501, 3207, 2886, 1834)\n",
    "var defmM = listOf(\"diciembre '18\",\"enero '19\",\"febrero '19\",\"marzo '19\")\n",
    "\n",
    "var texto = \"Diciembre '18: 1,501 \\nEnero  '19: 3,207 \\nFebrero  '19: 2,886 \\nMarzo  '19: 1,834\"\n",
    "var grafica = gLin(\"Enero - Febrero 2019: Los meses mas importantes\", defmC, defmM)\n",
    "\n",
    "print(texto)\n",
    "grafica.graph"
   ]
  },
  {
   "cell_type": "code",
   "execution_count": 35,
   "metadata": {},
   "outputs": [
    {
     "name": "stdout",
     "output_type": "stream",
     "text": [
      "Mayo '19: 3168 \n",
      "Junio: 2,145 \n",
      "Julio: 672 \n",
      "Agosto: 2,805"
     ]
    },
    {
     "data": {
      "text/html": [
       "   <div id=\"V3xpOs\"></div>\n",
       "   <script type=\"text/javascript\" data-lets-plot-script=\"plot\">\n",
       "       (function() {\n",
       "           var plotSpec={\n",
       "'ggtitle':{\n",
       "'text':\"Junio - Julio 2019: Caes y te levantas\"\n",
       "},\n",
       "'mapping':{\n",
       "},\n",
       "'data':{\n",
       "'Conceptos':[\"Mayo\",\"Junio\",\"Julio\",\"Agosto\"],\n",
       "'Cantidad':[3168.0,2145.0,672.0,2805.0]\n",
       "},\n",
       "'kind':\"plot\",\n",
       "'scales':[],\n",
       "'layers':[{\n",
       "'stat':\"identity\",\n",
       "'mapping':{\n",
       "'x':\"Conceptos\",\n",
       "'y':\"Cantidad\"\n",
       "},\n",
       "'data':{\n",
       "},\n",
       "'position':\"identity\",\n",
       "'geom':\"line\"\n",
       "}]\n",
       "};\n",
       "           var plotContainer = document.getElementById(\"V3xpOs\");\n",
       "           window.letsPlotCall(function() {{\n",
       "               LetsPlot.buildPlotFromProcessedSpecs(plotSpec, -1, -1, plotContainer);\n",
       "           }});\n",
       "       })();    \n",
       "   </script>"
      ]
     },
     "execution_count": 35,
     "metadata": {},
     "output_type": "execute_result"
    }
   ],
   "source": [
    "var mjjaC = listOf(3168, 2145, 672,  2805)\n",
    "var mjjaM = listOf(\"Mayo\", \"Junio\", \"Julio\", \"Agosto\")\n",
    "\n",
    "var texto = \"Mayo '19: 3168 \\nJunio: 2,145 \\nJulio: 672 \\nAgosto: 2,805\"\n",
    "var grafica = gLin(\"Junio - Julio 2019: Caes y te levantas\", mjjaC, mjjaM)\n",
    "\n",
    "print(texto)\n",
    "grafica.graph"
   ]
  },
  {
   "cell_type": "code",
   "execution_count": 36,
   "metadata": {},
   "outputs": [
    {
     "name": "stdout",
     "output_type": "stream",
     "text": [
      "Agosto '19: 2,805 \n",
      "Septiembre '19: 3,599 \n",
      "Octubre '19: 5,007 \n",
      "Noviembre '19: 2,053"
     ]
    },
    {
     "data": {
      "text/html": [
       "   <div id=\"RUQmkE\"></div>\n",
       "   <script type=\"text/javascript\" data-lets-plot-script=\"plot\">\n",
       "       (function() {\n",
       "           var plotSpec={\n",
       "'ggtitle':{\n",
       "'text':\"Agosto - Octubre 2019: Primera gran racha\"\n",
       "},\n",
       "'mapping':{\n",
       "},\n",
       "'data':{\n",
       "'Conceptos':[\"Agosto '19\",\"Septiembre '19\",\"Octubre '19\",\"Noviembre '19\"],\n",
       "'Cantidad':[2805.0,3599.0,5007.0,2053.0]\n",
       "},\n",
       "'kind':\"plot\",\n",
       "'scales':[],\n",
       "'layers':[{\n",
       "'stat':\"identity\",\n",
       "'mapping':{\n",
       "'x':\"Conceptos\",\n",
       "'y':\"Cantidad\"\n",
       "},\n",
       "'data':{\n",
       "},\n",
       "'position':\"identity\",\n",
       "'geom':\"line\"\n",
       "}]\n",
       "};\n",
       "           var plotContainer = document.getElementById(\"RUQmkE\");\n",
       "           window.letsPlotCall(function() {{\n",
       "               LetsPlot.buildPlotFromProcessedSpecs(plotSpec, -1, -1, plotContainer);\n",
       "           }});\n",
       "       })();    \n",
       "   </script>"
      ]
     },
     "execution_count": 36,
     "metadata": {},
     "output_type": "execute_result"
    }
   ],
   "source": [
    "var asonC = listOf(2805, 3599, 5007, 2053)\n",
    "var asonM = listOf(\"Agosto '19\", \"Septiembre '19\", \"Octubre '19\", \"Noviembre '19\")\n",
    "\n",
    "var texto = \"Agosto '19: 2,805 \\nSeptiembre '19: 3,599 \\nOctubre '19: 5,007 \\nNoviembre '19: 2,053\"\n",
    "var grafica = gLin(\"Agosto - Octubre 2019: Primera gran racha\", asonC, asonM)\n",
    "\n",
    "print(texto)\n",
    "grafica.graph"
   ]
  },
  {
   "cell_type": "code",
   "execution_count": 37,
   "metadata": {},
   "outputs": [
    {
     "name": "stdout",
     "output_type": "stream",
     "text": [
      "Febrero '19: 2,053 \n",
      "Marzo '19: 3,308 \n",
      "Abril '19: 5,652"
     ]
    },
    {
     "data": {
      "text/html": [
       "   <div id=\"akGV53\"></div>\n",
       "   <script type=\"text/javascript\" data-lets-plot-script=\"plot\">\n",
       "       (function() {\n",
       "           var plotSpec={\n",
       "'ggtitle':{\n",
       "'text':\"2020: La empresa crece\"\n",
       "},\n",
       "'mapping':{\n",
       "},\n",
       "'data':{\n",
       "'Conceptos':[\"Febrero '20\",\"Marzo '20\",\"Abril '20\"],\n",
       "'Cantidad':[2053.0,3308.0,5652.0]\n",
       "},\n",
       "'kind':\"plot\",\n",
       "'scales':[],\n",
       "'layers':[{\n",
       "'stat':\"identity\",\n",
       "'mapping':{\n",
       "'x':\"Conceptos\",\n",
       "'y':\"Cantidad\"\n",
       "},\n",
       "'data':{\n",
       "},\n",
       "'position':\"identity\",\n",
       "'geom':\"line\"\n",
       "}]\n",
       "};\n",
       "           var plotContainer = document.getElementById(\"akGV53\");\n",
       "           window.letsPlotCall(function() {{\n",
       "               LetsPlot.buildPlotFromProcessedSpecs(plotSpec, -1, -1, plotContainer);\n",
       "           }});\n",
       "       })();    \n",
       "   </script>"
      ]
     },
     "execution_count": 37,
     "metadata": {},
     "output_type": "execute_result"
    }
   ],
   "source": [
    "var fmaC = listOf(2053, 3308, 5652)\n",
    "var fmaM = listOf(\"Febrero '20\", \"Marzo '20\", \"Abril '20\")\n",
    "\n",
    "var texto = \"Febrero '19: 2,053 \\nMarzo '19: 3,308 \\nAbril '19: 5,652\"\n",
    "var grafica = gLin(\"2020: La empresa crece\", fmaC, fmaM)\n",
    "\n",
    "print(texto)\n",
    "grafica.graph"
   ]
  },
  {
   "cell_type": "code",
   "execution_count": 38,
   "metadata": {},
   "outputs": [
    {
     "name": "stdout",
     "output_type": "stream",
     "text": [
      "Mayo '20: 6,102 \n",
      "Junio '20: 8,249 \n",
      "Julio '20: 9,600"
     ]
    },
    {
     "data": {
      "text/html": [
       "   <div id=\"zS4tRM\"></div>\n",
       "   <script type=\"text/javascript\" data-lets-plot-script=\"plot\">\n",
       "       (function() {\n",
       "           var plotSpec={\n",
       "'ggtitle':{\n",
       "'text':\"2020: Lo mas reciente\"\n",
       "},\n",
       "'mapping':{\n",
       "},\n",
       "'data':{\n",
       "'Conceptos':[\"Mayo '20\",\"Junio '20\",\"Julio '20\"],\n",
       "'Cantidad':[6102.0,8249.0,9600.0]\n",
       "},\n",
       "'kind':\"plot\",\n",
       "'scales':[],\n",
       "'layers':[{\n",
       "'stat':\"identity\",\n",
       "'mapping':{\n",
       "'x':\"Conceptos\",\n",
       "'y':\"Cantidad\"\n",
       "},\n",
       "'data':{\n",
       "},\n",
       "'position':\"identity\",\n",
       "'geom':\"line\"\n",
       "}]\n",
       "};\n",
       "           var plotContainer = document.getElementById(\"zS4tRM\");\n",
       "           window.letsPlotCall(function() {{\n",
       "               LetsPlot.buildPlotFromProcessedSpecs(plotSpec, -1, -1, plotContainer);\n",
       "           }});\n",
       "       })();    \n",
       "   </script>"
      ]
     },
     "execution_count": 38,
     "metadata": {},
     "output_type": "execute_result"
    }
   ],
   "source": [
    "var mjjC = listOf(6102, 8249, 9600)\n",
    "var mjjM = listOf(\"Mayo '20\", \"Junio '20\", \"Julio '20\")\n",
    "\n",
    "var texto = \"Mayo '20: 6,102 \\nJunio '20: 8,249 \\nJulio '20: 9,600\"\n",
    "var grafica = gLin(\"2020: Lo mas reciente\", mjjC, mjjM)\n",
    "\n",
    "print(texto)\n",
    "grafica.graph"
   ]
  },
  {
   "cell_type": "code",
   "execution_count": null,
   "metadata": {},
   "outputs": [],
   "source": []
  }
 ],
 "metadata": {
  "kernelspec": {
   "display_name": "Kotlin",
   "language": "kotlin",
   "name": "kotlin"
  },
  "language_info": {
   "codemirror_mode": "text/x-kotlin",
   "file_extension": ".kt",
   "mimetype": "text/x-kotlin",
   "name": "kotlin",
   "pygments_lexer": "kotlin",
   "version": "1.4.0-dev-7568"
  }
 },
 "nbformat": 4,
 "nbformat_minor": 2
}
