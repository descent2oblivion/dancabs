{
 "cells": [
  {
   "cell_type": "code",
   "execution_count": 1,
   "metadata": {},
   "outputs": [
    {
     "data": {
      "text/html": [
       "   <div id=\"hyPBFh\"></div>\n",
       "   <script type=\"text/javascript\" data-lets-plot-script=\"library\">\n",
       "       if(!window.letsPlotCallQueue) {\n",
       "           window.letsPlotCallQueue = [];\n",
       "       }; \n",
       "       window.letsPlotCall = function(f) {\n",
       "           window.letsPlotCallQueue.push(f);\n",
       "       };\n",
       "       (function() {\n",
       "           var script = document.createElement(\"script\");\n",
       "           script.type = \"text/javascript\";\n",
       "           script.src = \"https://dl.bintray.com/jetbrains/lets-plot/lets-plot-1.4.2.min.js\";\n",
       "           script.onload = function() {\n",
       "               window.letsPlotCall = function(f) {f();};\n",
       "               window.letsPlotCallQueue.forEach(function(f) {f();});\n",
       "               window.letsPlotCallQueue = [];\n",
       "               \n",
       "               \n",
       "           };\n",
       "           script.onerror = function(event) {\n",
       "               window.letsPlotCall = function(f) {};\n",
       "               window.letsPlotCallQueue = [];\n",
       "               var div = document.createElement(\"div\");\n",
       "               div.style.color = 'darkred';\n",
       "               div.textContent = 'Error loading Lets-Plot JS';\n",
       "               document.getElementById(\"hyPBFh\").appendChild(div);\n",
       "           };\n",
       "           var e = document.getElementById(\"hyPBFh\");\n",
       "           e.appendChild(script);\n",
       "       })();\n",
       "   </script>"
      ]
     },
     "metadata": {},
     "output_type": "display_data"
    }
   ],
   "source": [
    "%use lets-plot"
   ]
  },
  {
   "cell_type": "code",
   "execution_count": 2,
   "metadata": {},
   "outputs": [],
   "source": [
    "class gBar(titulo : String, cantidades : Any, conceptos : Any){\n",
    "    private var datos = mapOf<String, Any>(\n",
    "        \"Cantidad\" to cantidades,\n",
    "        \"Conceptos\" to conceptos\n",
    "    )\n",
    "    \n",
    "    private var z = lets_plot(datos)\n",
    "    \n",
    "    private var layer = geom_bar(stat = Stat.identity){\n",
    "        x = \"Conceptos\"\n",
    "        y = \"Cantidad\"\n",
    "        fill = \"Conceptos\"\n",
    "    }\n",
    "    \n",
    "    \n",
    "    var graph = z + layer\n",
    "    \n",
    "    init{\n",
    "        graph = (z + layer + ggtitle(titulo))\n",
    "    }\n",
    "}"
   ]
  },
  {
   "cell_type": "code",
   "execution_count": 3,
   "metadata": {},
   "outputs": [],
   "source": [
    "class gLin(titulo : String, cantidades : Any, conceptos : Any){\n",
    "    private var datos = mapOf<String, Any>(\n",
    "        \"Cantidad\" to cantidades,\n",
    "        \"Conceptos\" to conceptos\n",
    "    )\n",
    "    \n",
    "    private var z = lets_plot(datos)\n",
    "    \n",
    "    private var layer = geom_line(stat = Stat.identity){\n",
    "        x = \"Conceptos\"\n",
    "        y = \"Cantidad\"\n",
    "    }\n",
    "    \n",
    "    \n",
    "    var graph = z + layer\n",
    "    \n",
    "    init{\n",
    "        graph = (z + layer + ggtitle(titulo))\n",
    "    }\n",
    "}"
   ]
  },
  {
   "cell_type": "markdown",
   "metadata": {},
   "source": [
    "<h3 class='text-center'>Total currency invested</h3>\n",
    "<table>\n",
    "    <tr>\n",
    "        <td>Concepto</td>\n",
    "        <td>MXN </td>\n",
    "        <td>USD</td>\n",
    "    </tr>\n",
    "    <tr>\n",
    "        <td>Initial investment</td>\n",
    "        <td>52,000</td>\n",
    "        <td>2,475</td>\n",
    "    </tr>\n",
    "    <tr>\n",
    "        <td>Stabilization</td>\n",
    "        <td>10,500</td>\n",
    "        <td>500</td>\n",
    "    </tr>\n",
    "    <tr>\n",
    "        <td>TOTAL</td>\n",
    "        <td>62,500</td>\n",
    "        <td>2,975</td>\n",
    "    </tr>\n",
    "</table>"
   ]
  },
  {
   "cell_type": "markdown",
   "metadata": {},
   "source": [
    "<h3 class='text-center'>Mass</h3>\n",
    "<table>\n",
    "    <tr>\n",
    "        <td>Concept</td>\n",
    "        <td>Metric</td>\n",
    "        <td>Imperial</td>\n",
    "    </tr>\n",
    "    <tr>\n",
    "        <td>Weight</td>\n",
    "        <td>39.14 Kg</td>\n",
    "        <td>76 lb</td>\n",
    "    </tr>\n",
    "    <tr>\n",
    "        <td>Cost/Kg</td>\n",
    "        <td>1,800 MXN</td>\n",
    "        <td>86.13 USD</td>\n",
    "    </tr>\n",
    "    <tr>\n",
    "        <td>Cost/lb</td>\n",
    "        <td>822.36 MXN</td>\n",
    "        <td>39.14 USD</td>\n",
    "    </tr>\n",
    "</table>"
   ]
  },
  {
   "cell_type": "markdown",
   "metadata": {},
   "source": [
    "# Scenario 1: Sell all rough"
   ]
  },
  {
   "cell_type": "code",
   "execution_count": 28,
   "metadata": {},
   "outputs": [
    {
     "name": "stdout",
     "output_type": "stream",
     "text": [
      "$120/lb: 9,120 \n",
      "$140/lb: 10,640 \n",
      "$150/lb: 11,400 \n",
      "$175/lb: 13,300 \n",
      "$200/lb: 15,200"
     ]
    },
    {
     "data": {
      "text/html": [
       "   <div id=\"zhht7s\"></div>\n",
       "   <script type=\"text/javascript\" data-lets-plot-script=\"plot\">\n",
       "       (function() {\n",
       "           var plotSpec={\n",
       "'ggtitle':{\n",
       "'text':\"Sell all rough\"\n",
       "},\n",
       "'mapping':{\n",
       "},\n",
       "'data':{\n",
       "'Conceptos':[\"$120/lb\",\"$140/lb\",\"$150/lb\",\"$175/lb\",\"$200/lb\"],\n",
       "'Cantidad':[9120.0,10640.0,11400.0,13300.0,15200.0]\n",
       "},\n",
       "'kind':\"plot\",\n",
       "'scales':[],\n",
       "'layers':[{\n",
       "'stat':\"identity\",\n",
       "'mapping':{\n",
       "'x':\"Conceptos\",\n",
       "'y':\"Cantidad\",\n",
       "'fill':\"Conceptos\"\n",
       "},\n",
       "'data':{\n",
       "},\n",
       "'position':\"stack\",\n",
       "'geom':\"bar\"\n",
       "}]\n",
       "};\n",
       "           var plotContainer = document.getElementById(\"zhht7s\");\n",
       "           window.letsPlotCall(function() {{\n",
       "               LetsPlot.buildPlotFromProcessedSpecs(plotSpec, -1, -1, plotContainer);\n",
       "           }});\n",
       "       })();    \n",
       "   </script>"
      ]
     },
     "execution_count": 28,
     "metadata": {},
     "output_type": "execute_result"
    }
   ],
   "source": [
    "var cost_r = listOf(9120, 10640, 11400, 13300, 15200)\n",
    "var conc_r = listOf(\"\\$120/lb\",\"\\$140/lb\",\"\\$150/lb\",\"\\$175/lb\",\"\\$200/lb\")\n",
    "var texto = \"\\$120/lb: 9,120 \\n\" + \n",
    "            \"\\$140/lb: 10,640 \\n\" +\n",
    "            \"\\$150/lb: 11,400 \\n\" +\n",
    "            \"\\$175/lb: 13,300 \\n\" + \n",
    "            \"\\$200/lb: 15,200\"\n",
    "\n",
    "var gRough = gBar(\"Sell all rough\", cost_r, conc_r)\n",
    "\n",
    "print(texto)\n",
    "gRough.graph"
   ]
  },
  {
   "cell_type": "code",
   "execution_count": 9,
   "metadata": {},
   "outputs": [
    {
     "name": "stdout",
     "output_type": "stream",
     "text": [
      "9120 - 2975 = 6145\n",
      "10640 - 2975 = 7665\n",
      "11400 - 2975 = 8425\n",
      "13300 - 2975 = 10325\n",
      "15200 - 2975 = 12225\n"
     ]
    },
    {
     "data": {
      "text/html": [
       "   <div id=\"egO2mH\"></div>\n",
       "   <script type=\"text/javascript\" data-lets-plot-script=\"plot\">\n",
       "       (function() {\n",
       "           var plotSpec={\n",
       "'ggtitle':{\n",
       "'text':\"NET: Ganancias libres\"\n",
       "},\n",
       "'mapping':{\n",
       "},\n",
       "'data':{\n",
       "'Conceptos':[\"$120/lb\",\"$140/lb\",\"$150/lb\",\"$175/lb\",\"$200/lb\"],\n",
       "'Cantidad':[9120.0,10640.0,11400.0,13300.0,15200.0]\n",
       "},\n",
       "'kind':\"plot\",\n",
       "'scales':[],\n",
       "'layers':[{\n",
       "'stat':\"identity\",\n",
       "'mapping':{\n",
       "'x':\"Conceptos\",\n",
       "'y':\"Cantidad\",\n",
       "'fill':\"Conceptos\"\n",
       "},\n",
       "'data':{\n",
       "},\n",
       "'position':\"stack\",\n",
       "'geom':\"bar\"\n",
       "}]\n",
       "};\n",
       "           var plotContainer = document.getElementById(\"egO2mH\");\n",
       "           window.letsPlotCall(function() {{\n",
       "               LetsPlot.buildPlotFromProcessedSpecs(plotSpec, -1, -1, plotContainer);\n",
       "           }});\n",
       "       })();    \n",
       "   </script>"
      ]
     },
     "execution_count": 9,
     "metadata": {},
     "output_type": "execute_result"
    }
   ],
   "source": [
    "var inv = 2975\n",
    "var cost_n = listOf(9120, 10640, 11400, 13300, 15200)\n",
    "var conc_n = listOf(\"\\$120/lb\",\"\\$140/lb\",\"\\$150/lb\",\"\\$175/lb\",\"\\$200/lb\")\n",
    "\n",
    "for (a in 0 until cost_n.size){\n",
    "    println(\"${cost_n[a]} - ${inv} = ${cost_n[a] - inv}\")\n",
    "}\n",
    "\n",
    "var gNet = gBar(\"NET: Ganancias libres\", cost_n, conc_n)\n",
    "gNet.graph"
   ]
  },
  {
   "cell_type": "markdown",
   "metadata": {},
   "source": [
    "# Scenario 2: Cut all"
   ]
  },
  {
   "cell_type": "code",
   "execution_count": 15,
   "metadata": {},
   "outputs": [
    {
     "name": "stdout",
     "output_type": "stream",
     "text": [
      "Initial weight: 76 lb \n",
      "Lost: 53.2 lb \n",
      "Output: 22.799999999999997 lb"
     ]
    },
    {
     "data": {
      "text/html": [
       "   <div id=\"lcYwxx\"></div>\n",
       "   <script type=\"text/javascript\" data-lets-plot-script=\"plot\">\n",
       "       (function() {\n",
       "           var plotSpec={\n",
       "'ggtitle':{\n",
       "'text':\"Material utility\"\n",
       "},\n",
       "'mapping':{\n",
       "},\n",
       "'data':{\n",
       "'Conceptos':[\"Initial weight\",\"Lost\",\"Output\"],\n",
       "'Cantidad':[76.0,53.2,22.799999999999997]\n",
       "},\n",
       "'kind':\"plot\",\n",
       "'scales':[],\n",
       "'layers':[{\n",
       "'stat':\"identity\",\n",
       "'mapping':{\n",
       "'x':\"Conceptos\",\n",
       "'y':\"Cantidad\",\n",
       "'fill':\"Conceptos\"\n",
       "},\n",
       "'data':{\n",
       "},\n",
       "'position':\"stack\",\n",
       "'geom':\"bar\"\n",
       "}]\n",
       "};\n",
       "           var plotContainer = document.getElementById(\"lcYwxx\");\n",
       "           window.letsPlotCall(function() {{\n",
       "               LetsPlot.buildPlotFromProcessedSpecs(plotSpec, -1, -1, plotContainer);\n",
       "           }});\n",
       "       })();    \n",
       "   </script>"
      ]
     },
     "execution_count": 15,
     "metadata": {},
     "output_type": "execute_result"
    }
   ],
   "source": [
    "var weight = 76\n",
    "var perdida = ((76.0 / 100.0) * 70.0)\n",
    "var util = weight - perdida\n",
    "var texto = \"Initial weight: ${weight} lb \\n\" + \n",
    "    \"Lost: ${perdida} lb \\n\" + \n",
    "    \"Output: ${util} lb\"\n",
    "\n",
    "var cant_w = listOf(weight, perdida, util)\n",
    "var conc_w = listOf(\"Initial weight\", \"Lost\", \"Output\")\n",
    "\n",
    "print(texto)\n",
    "var wGra = gBar(\"Material utility\", cant_w, conc_w)\n",
    "wGra.graph"
   ]
  },
  {
   "cell_type": "code",
   "execution_count": 24,
   "metadata": {},
   "outputs": [
    {
     "name": "stdout",
     "output_type": "stream",
     "text": [
      "Lijas: 350 \n",
      "Luz: 150 \n",
      "Trabajadora: 740 \n",
      "Inversion: 2975 \n",
      "Total: 4215"
     ]
    },
    {
     "data": {
      "text/html": [
       "   <div id=\"9nhEo3\"></div>\n",
       "   <script type=\"text/javascript\" data-lets-plot-script=\"plot\">\n",
       "       (function() {\n",
       "           var plotSpec={\n",
       "'ggtitle':{\n",
       "'text':\"Costos\"\n",
       "},\n",
       "'mapping':{\n",
       "},\n",
       "'data':{\n",
       "'Conceptos':[\"Lijas\",\"Luz\",\"Trabajadora\",\"Inversion\",\"Total\"],\n",
       "'Cantidad':[350.0,150.0,740.0,2975.0,4215.0]\n",
       "},\n",
       "'kind':\"plot\",\n",
       "'scales':[],\n",
       "'layers':[{\n",
       "'stat':\"identity\",\n",
       "'mapping':{\n",
       "'x':\"Conceptos\",\n",
       "'y':\"Cantidad\",\n",
       "'fill':\"Conceptos\"\n",
       "},\n",
       "'data':{\n",
       "},\n",
       "'position':\"stack\",\n",
       "'geom':\"bar\"\n",
       "}]\n",
       "};\n",
       "           var plotContainer = document.getElementById(\"9nhEo3\");\n",
       "           window.letsPlotCall(function() {{\n",
       "               LetsPlot.buildPlotFromProcessedSpecs(plotSpec, -1, -1, plotContainer);\n",
       "           }});\n",
       "       })();    \n",
       "   </script>"
      ]
     },
     "execution_count": 24,
     "metadata": {},
     "output_type": "execute_result"
    }
   ],
   "source": [
    "var lijas = 350\n",
    "var luz = 150\n",
    "var trabajadora = 740\n",
    "var semanas = 18\n",
    "var tInv = 2975\n",
    "var total = lijas + luz + trabajadora + tInv\n",
    "\n",
    "var cost = listOf(lijas, luz, trabajadora, tInv, total)\n",
    "var conc = listOf(\"Lijas\",\"Luz\",\"Trabajadora\",\"Inversion\",\"Total\")\n",
    "var texto = \"Lijas: $lijas \\nLuz: $luz \\nTrabajadora: $trabajadora \\nInversion: $tInv \\nTotal: $total\"\n",
    "\n",
    "var grafica = gBar(\"Costos\", cost, conc)\n",
    "\n",
    "print(texto)\n",
    "grafica.graph\n"
   ]
  },
  {
   "cell_type": "code",
   "execution_count": 31,
   "metadata": {},
   "outputs": [
    {
     "name": "stdout",
     "output_type": "stream",
     "text": [
      "Costo total: 4215\n",
      "Mayoreo: 9324 \n",
      "Menudeo: 51800 \n",
      "Promedio: 27454 \n",
      "\n",
      "MayoreoFin: 5109 \n",
      "MenudeoFin: 47585 \n",
      "PromedioFin: 23239"
     ]
    },
    {
     "data": {
      "text/html": [
       "   <div id=\"vTIjy5\"></div>\n",
       "   <script type=\"text/javascript\" data-lets-plot-script=\"plot\">\n",
       "       (function() {\n",
       "           var plotSpec={\n",
       "'ggtitle':{\n",
       "'text':\"Ganancias\"\n",
       "},\n",
       "'mapping':{\n",
       "},\n",
       "'data':{\n",
       "'Conceptos':[\"MayoreoFin\",\"MenudeoFin\",\"PromedioFin\"],\n",
       "'Cantidad':[5109.0,47585.0,23239.0]\n",
       "},\n",
       "'kind':\"plot\",\n",
       "'scales':[],\n",
       "'layers':[{\n",
       "'stat':\"identity\",\n",
       "'mapping':{\n",
       "'x':\"Conceptos\",\n",
       "'y':\"Cantidad\",\n",
       "'fill':\"Conceptos\"\n",
       "},\n",
       "'data':{\n",
       "},\n",
       "'position':\"stack\",\n",
       "'geom':\"bar\"\n",
       "}]\n",
       "};\n",
       "           var plotContainer = document.getElementById(\"vTIjy5\");\n",
       "           window.letsPlotCall(function() {{\n",
       "               LetsPlot.buildPlotFromProcessedSpecs(plotSpec, -1, -1, plotContainer);\n",
       "           }});\n",
       "       })();    \n",
       "   </script>"
      ]
     },
     "execution_count": 31,
     "metadata": {},
     "output_type": "execute_result"
    }
   ],
   "source": [
    "var mayoreo = 9324\n",
    "var menudeo = 51800\n",
    "var prom = 27454\n",
    "var total = 4215\n",
    "\n",
    "var ganC = listOf(mayoreo - total, menudeo - total, prom - total)\n",
    "var conc = listOf(\"MayoreoFin\",\"MenudeoFin\",\"PromedioFin\")\n",
    "\n",
    "var grafica = gBar(\"Ganancias\", ganC, conc)\n",
    "var texto = \"Costo total: $total\\n\" + \n",
    "            \"Mayoreo: ${mayoreo} \\n\" + \n",
    "            \"Menudeo: ${menudeo} \\n\" + \n",
    "            \"Promedio: ${prom} \\n\\n\" + \n",
    "            \"MayoreoFin: ${mayoreo - total} \\n\" + \n",
    "            \"MenudeoFin: ${menudeo - total} \\n\" + \n",
    "            \"PromedioFin: ${prom - total}\" \n",
    "\n",
    "print(texto)\n",
    "grafica.graph"
   ]
  },
  {
   "cell_type": "code",
   "execution_count": null,
   "metadata": {},
   "outputs": [],
   "source": []
  }
 ],
 "metadata": {
  "kernelspec": {
   "display_name": "Kotlin",
   "language": "kotlin",
   "name": "kotlin"
  },
  "language_info": {
   "codemirror_mode": "text/x-kotlin",
   "file_extension": ".kt",
   "mimetype": "text/x-kotlin",
   "name": "kotlin",
   "pygments_lexer": "kotlin",
   "version": "1.4.0-dev-7568"
  }
 },
 "nbformat": 4,
 "nbformat_minor": 2
}
