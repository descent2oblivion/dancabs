{
 "cells": [
  {
   "cell_type": "code",
   "execution_count": 1,
   "metadata": {},
   "outputs": [
    {
     "data": {
      "text/html": [
       "   <div id=\"7AmSB9\"></div>\n",
       "   <script type=\"text/javascript\" data-lets-plot-script=\"library\">\n",
       "       if(!window.letsPlotCallQueue) {\n",
       "           window.letsPlotCallQueue = [];\n",
       "       }; \n",
       "       window.letsPlotCall = function(f) {\n",
       "           window.letsPlotCallQueue.push(f);\n",
       "       };\n",
       "       (function() {\n",
       "           var script = document.createElement(\"script\");\n",
       "           script.type = \"text/javascript\";\n",
       "           script.src = \"https://dl.bintray.com/jetbrains/lets-plot/lets-plot-1.4.2.min.js\";\n",
       "           script.onload = function() {\n",
       "               window.letsPlotCall = function(f) {f();};\n",
       "               window.letsPlotCallQueue.forEach(function(f) {f();});\n",
       "               window.letsPlotCallQueue = [];\n",
       "               \n",
       "               \n",
       "           };\n",
       "           script.onerror = function(event) {\n",
       "               window.letsPlotCall = function(f) {};\n",
       "               window.letsPlotCallQueue = [];\n",
       "               var div = document.createElement(\"div\");\n",
       "               div.style.color = 'darkred';\n",
       "               div.textContent = 'Error loading Lets-Plot JS';\n",
       "               document.getElementById(\"7AmSB9\").appendChild(div);\n",
       "           };\n",
       "           var e = document.getElementById(\"7AmSB9\");\n",
       "           e.appendChild(script);\n",
       "       })();\n",
       "   </script>"
      ]
     },
     "metadata": {},
     "output_type": "display_data"
    }
   ],
   "source": [
    "%use lets-plot"
   ]
  },
  {
   "cell_type": "code",
   "execution_count": 10,
   "metadata": {},
   "outputs": [],
   "source": [
    "class gBar(titulo : String, cantidades : Any, conceptos : Any){\n",
    "    private var datos = mapOf<String, Any>(\n",
    "        \"Cantidad\" to cantidades,\n",
    "        \"Conceptos\" to conceptos\n",
    "    )\n",
    "    \n",
    "    private var z = lets_plot(datos)\n",
    "    \n",
    "    private var layer = geom_bar(stat = Stat.identity){\n",
    "        x = \"Conceptos\"\n",
    "        y = \"Cantidad\"\n",
    "        fill = \"Conceptos\"\n",
    "    }\n",
    "    \n",
    "    \n",
    "    var graph = z + layer\n",
    "    \n",
    "    init{\n",
    "        graph = (z + layer + ggtitle(titulo))\n",
    "    }\n",
    "}"
   ]
  },
  {
   "cell_type": "code",
   "execution_count": 11,
   "metadata": {},
   "outputs": [],
   "source": [
    "class gLin(titulo : String, cantidades : Any, conceptos : Any){\n",
    "    private var datos = mapOf<String, Any>(\n",
    "        \"Cantidad\" to cantidades,\n",
    "        \"Conceptos\" to conceptos\n",
    "    )\n",
    "    \n",
    "    private var z = lets_plot(datos)\n",
    "    \n",
    "    private var layer = geom_line(stat = Stat.identity){\n",
    "        x = \"Conceptos\"\n",
    "        y = \"Cantidad\"\n",
    "    }\n",
    "    \n",
    "    \n",
    "    var graph = z + layer\n",
    "    \n",
    "    init{\n",
    "        graph = (z + layer + ggtitle(titulo))\n",
    "    }\n",
    "}"
   ]
  },
  {
   "cell_type": "markdown",
   "metadata": {},
   "source": [
    "# 2018, 2019 y 2020"
   ]
  },
  {
   "cell_type": "code",
   "execution_count": 19,
   "metadata": {},
   "outputs": [
    {
     "data": {
      "text/html": [
       "   <div id=\"yFOydg\"></div>\n",
       "   <script type=\"text/javascript\" data-lets-plot-script=\"plot\">\n",
       "       (function() {\n",
       "           var plotSpec={\n",
       "'ggtitle':{\n",
       "'text':\"2018, 2019 y 2020\"\n",
       "},\n",
       "'mapping':{\n",
       "},\n",
       "'data':{\n",
       "'Conceptos':[\"junio '18\",\"julio '18\",\"agosto '18\",\"septiembre '18\",\"octubre '18\",\"noviembre '18\",\"diciembre '18\",\"enero '19\",\"febrero '19\",\"marzo '19\",\"abril '19\",\"mayo '19\",\"junio '19\",\"julio '19\",\"agosto '19\",\"septiembre '19\",\"octubre '19\",\"noviembre '19\",\"diciembre '19\",\"enero '20\",\"febrero '20\",\"marzo '20\",\"abril '20\",\"mayo '20\",\"junio '20\",\"julio '20\"],\n",
       "'Cantidad':[1062.0,718.0,861.0,2724.0,3472.0,1761.0,1501.0,3207.0,2886.0,1834.0,1846.0,3168.0,2145.0,672.0,2805.0,3599.0,5007.0,2053.0,3791.0,2629.0,2053.0,3308.0,5652.0,6102.0,8249.0,4307.0]\n",
       "},\n",
       "'kind':\"plot\",\n",
       "'scales':[],\n",
       "'layers':[{\n",
       "'stat':\"identity\",\n",
       "'mapping':{\n",
       "'x':\"Conceptos\",\n",
       "'y':\"Cantidad\"\n",
       "},\n",
       "'data':{\n",
       "},\n",
       "'position':\"identity\",\n",
       "'geom':\"line\"\n",
       "}]\n",
       "};\n",
       "           var plotContainer = document.getElementById(\"yFOydg\");\n",
       "           window.letsPlotCall(function() {{\n",
       "               LetsPlot.buildPlotFromProcessedSpecs(plotSpec, -1, -1, plotContainer);\n",
       "           }});\n",
       "       })();    \n",
       "   </script>"
      ]
     },
     "execution_count": 19,
     "metadata": {},
     "output_type": "execute_result"
    }
   ],
   "source": [
    "var mTodo = listOf(\"junio '18\", \"julio '18\", \"agosto '18\",\n",
    "                      \"septiembre '18\", \"octubre '18\", \"noviembre '18\",\n",
    "                      \"diciembre '18\", \n",
    "                      \n",
    "                      //enero 2019\n",
    "                      \"enero '19\", \"febrero '19\", \"marzo '19\", \n",
    "                      \"abril '19\", \"mayo '19\", \"junio '19\", \n",
    "                      \"julio '19\",  \"agosto '19\",\"septiembre '19\", \n",
    "                      \"octubre '19\", \"noviembre '19\", \"diciembre '19\",\n",
    "                      \n",
    "                      //enero 2020\n",
    "                      \"enero '20\", \"febrero '20\", \"marzo '20\", \n",
    "                      \"abril '20\", \"mayo '20\", \"junio '20\", \n",
    "                      \n",
    "                      //este mes\n",
    "                      \"julio '20\")\n",
    "    \n",
    "var vTodo = listOf(\n",
    "                     1062, 718, 861,\n",
    "                     2724, 3472, 1761,\n",
    "                     1501,\n",
    "                      \n",
    "                     //\"enero 2019\"\n",
    "                     3207, 2886, 1834,\n",
    "                     1846, 3168, 2145,\n",
    "                     672,  2805, 3599,\n",
    "                     5007, 2053, 3791,\n",
    "        \n",
    "                     //\"enero 2020\"\n",
    "                     2629, 2053, 3308,\n",
    "                     5652, 6102, 8249,\n",
    "                      \n",
    "                     //\"Este mes\"\n",
    "                     4307)\n",
    "\n",
    "var gTodo = gLin(\"2018, 2019 y 2020\", vTodo, mTodo)\n",
    "gTodo.graph"
   ]
  },
  {
   "cell_type": "markdown",
   "metadata": {},
   "source": [
    "# 2018"
   ]
  },
  {
   "cell_type": "code",
   "execution_count": 20,
   "metadata": {},
   "outputs": [
    {
     "data": {
      "text/html": [
       "   <div id=\"jyhM2g\"></div>\n",
       "   <script type=\"text/javascript\" data-lets-plot-script=\"plot\">\n",
       "       (function() {\n",
       "           var plotSpec={\n",
       "'ggtitle':{\n",
       "'text':\"2018\"\n",
       "},\n",
       "'mapping':{\n",
       "},\n",
       "'data':{\n",
       "'Conceptos':[\"junio '18\",\"julio '18\",\"agosto '18\",\"septiembre '18\",\"octubre '18\",\"noviembre '18\",\"diciembre '18\"],\n",
       "'Cantidad':[1062.0,718.0,861.0,2724.0,3472.0,1761.0,1501.0]\n",
       "},\n",
       "'kind':\"plot\",\n",
       "'scales':[],\n",
       "'layers':[{\n",
       "'stat':\"identity\",\n",
       "'mapping':{\n",
       "'x':\"Conceptos\",\n",
       "'y':\"Cantidad\"\n",
       "},\n",
       "'data':{\n",
       "},\n",
       "'position':\"identity\",\n",
       "'geom':\"line\"\n",
       "}]\n",
       "};\n",
       "           var plotContainer = document.getElementById(\"jyhM2g\");\n",
       "           window.letsPlotCall(function() {{\n",
       "               LetsPlot.buildPlotFromProcessedSpecs(plotSpec, -1, -1, plotContainer);\n",
       "           }});\n",
       "       })();    \n",
       "   </script>"
      ]
     },
     "execution_count": 20,
     "metadata": {},
     "output_type": "execute_result"
    }
   ],
   "source": [
    "var m18 = listOf(\"junio '18\", \"julio '18\", \"agosto '18\",\n",
    "                 \"septiembre '18\", \"octubre '18\", \"noviembre '18\",\n",
    "                 \"diciembre '18\")\n",
    "    \n",
    "var v18 = listOf(\n",
    "                 1062, 718, 861,\n",
    "                 2724, 3472, 1761,\n",
    "                 1501)\n",
    "\n",
    "var g18 = gLin(\"2018\", v18, m18)\n",
    "g18.graph"
   ]
  },
  {
   "cell_type": "markdown",
   "metadata": {},
   "source": [
    "# 2019"
   ]
  },
  {
   "cell_type": "code",
   "execution_count": 12,
   "metadata": {},
   "outputs": [
    {
     "data": {
      "text/html": [
       "   <div id=\"7gLcy3\"></div>\n",
       "   <script type=\"text/javascript\" data-lets-plot-script=\"plot\">\n",
       "       (function() {\n",
       "           var plotSpec={\n",
       "'ggtitle':{\n",
       "'text':\"2019\"\n",
       "},\n",
       "'mapping':{\n",
       "},\n",
       "'data':{\n",
       "'Conceptos':[\"enero '19\",\"febrero '19\",\"marzo '19\",\"abril '19\",\"mayo '19\",\"junio '19\",\"julio '19\",\"agosto '19\",\"septiembre '19\",\"octubre '19\",\"noviembre '19\",\"diciembre '19\"],\n",
       "'Cantidad':[3207.0,2886.0,1834.0,1846.0,3168.0,2145.0,672.0,2805.0,3599.0,5007.0,2053.0,3791.0]\n",
       "},\n",
       "'kind':\"plot\",\n",
       "'scales':[],\n",
       "'layers':[{\n",
       "'stat':\"identity\",\n",
       "'mapping':{\n",
       "'x':\"Conceptos\",\n",
       "'y':\"Cantidad\"\n",
       "},\n",
       "'data':{\n",
       "},\n",
       "'position':\"identity\",\n",
       "'geom':\"line\"\n",
       "}]\n",
       "};\n",
       "           var plotContainer = document.getElementById(\"7gLcy3\");\n",
       "           window.letsPlotCall(function() {{\n",
       "               LetsPlot.buildPlotFromProcessedSpecs(plotSpec, -1, -1, plotContainer);\n",
       "           }});\n",
       "       })();    \n",
       "   </script>"
      ]
     },
     "execution_count": 12,
     "metadata": {},
     "output_type": "execute_result"
    }
   ],
   "source": [
    "var m19 = listOf(\n",
    "                      //enero 2019\n",
    "                      \"enero '19\", \"febrero '19\", \"marzo '19\", \n",
    "                      \"abril '19\", \"mayo '19\", \"junio '19\", \n",
    "                      \"julio '19\",  \"agosto '19\",\"septiembre '19\", \n",
    "                      \"octubre '19\", \"noviembre '19\", \"diciembre '19\")\n",
    "\n",
    "var v19 = listOf(//\"enero 2019\"\n",
    "                     3207, 2886, 1834,\n",
    "                     1846, 3168, 2145,\n",
    "                     672,  2805, 3599,\n",
    "                     5007, 2053, 3791)\n",
    "\n",
    "var g = gLin(\"2019\",v19, m19)\n",
    "\n",
    "g.graph"
   ]
  },
  {
   "cell_type": "markdown",
   "metadata": {},
   "source": [
    "# 2020"
   ]
  },
  {
   "cell_type": "code",
   "execution_count": 21,
   "metadata": {},
   "outputs": [
    {
     "data": {
      "text/html": [
       "   <div id=\"FNPhrn\"></div>\n",
       "   <script type=\"text/javascript\" data-lets-plot-script=\"plot\">\n",
       "       (function() {\n",
       "           var plotSpec={\n",
       "'ggtitle':{\n",
       "'text':\"2020\"\n",
       "},\n",
       "'mapping':{\n",
       "},\n",
       "'data':{\n",
       "'Conceptos':[\"enero '20\",\"febrero '20\",\"marzo '20\",\"abril '20\",\"mayo '20\",\"junio '20\",\"julio '20\"],\n",
       "'Cantidad':[2629.0,2053.0,3308.0,5652.0,6102.0,8249.0,4307.0]\n",
       "},\n",
       "'kind':\"plot\",\n",
       "'scales':[],\n",
       "'layers':[{\n",
       "'stat':\"identity\",\n",
       "'mapping':{\n",
       "'x':\"Conceptos\",\n",
       "'y':\"Cantidad\"\n",
       "},\n",
       "'data':{\n",
       "},\n",
       "'position':\"identity\",\n",
       "'geom':\"line\"\n",
       "}]\n",
       "};\n",
       "           var plotContainer = document.getElementById(\"FNPhrn\");\n",
       "           window.letsPlotCall(function() {{\n",
       "               LetsPlot.buildPlotFromProcessedSpecs(plotSpec, -1, -1, plotContainer);\n",
       "           }});\n",
       "       })();    \n",
       "   </script>"
      ]
     },
     "execution_count": 21,
     "metadata": {},
     "output_type": "execute_result"
    }
   ],
   "source": [
    "var m20 = listOf(\n",
    "                      //enero 2020\n",
    "                      \"enero '20\", \"febrero '20\", \"marzo '20\", \n",
    "                      \"abril '20\", \"mayo '20\", \"junio '20\",\n",
    "        \n",
    "                      //este mes\n",
    "                      \"julio '20\")\n",
    "    \n",
    "var v20 = listOf(\n",
    "                     //\"enero 2020\"\n",
    "                     2629, 2053, 3308,\n",
    "                     5652, 6102, 8249,\n",
    "                      \n",
    "                     //\"Este mes\"\n",
    "                     4307)\n",
    "\n",
    "var g20 = gLin(\"2020\", v20, m20)\n",
    "g20.graph"
   ]
  },
  {
   "cell_type": "code",
   "execution_count": 23,
   "metadata": {},
   "outputs": [
    {
     "name": "stdout",
     "output_type": "stream",
     "text": [
      "Ingreso: 20232 \n",
      "Impuesto Paypal: 1010 \n",
      "Ingreso despues de Paypal: 19222 \n",
      "Envios: 1016 \n",
      "Prima: 3713 \n",
      "Daniel: 14493\n"
     ]
    },
    {
     "data": {
      "text/html": [
       "   <div id=\"0pqtgm\"></div>\n",
       "   <script type=\"text/javascript\" data-lets-plot-script=\"plot\">\n",
       "       (function() {\n",
       "           var plotSpec={\n",
       "'ggtitle':{\n",
       "'text':\"Empresa\"\n",
       "},\n",
       "'mapping':{\n",
       "},\n",
       "'data':{\n",
       "'Conceptos':[\"Ingresos\",\"Impuesto\",\"post-Paypal\",\"Envios\",\"Prima\",\"Daniel\"],\n",
       "'Cantidad':[20232.0,1010.0,19222.0,1016.0,3713.0,14493.0]\n",
       "},\n",
       "'kind':\"plot\",\n",
       "'scales':[],\n",
       "'layers':[{\n",
       "'stat':\"identity\",\n",
       "'mapping':{\n",
       "'x':\"Conceptos\",\n",
       "'y':\"Cantidad\",\n",
       "'fill':\"Conceptos\"\n",
       "},\n",
       "'data':{\n",
       "},\n",
       "'position':\"stack\",\n",
       "'geom':\"bar\"\n",
       "}]\n",
       "};\n",
       "           var plotContainer = document.getElementById(\"0pqtgm\");\n",
       "           window.letsPlotCall(function() {{\n",
       "               LetsPlot.buildPlotFromProcessedSpecs(plotSpec, -1, -1, plotContainer);\n",
       "           }});\n",
       "       })();    \n",
       "   </script>"
      ]
     },
     "execution_count": 23,
     "metadata": {},
     "output_type": "execute_result"
    }
   ],
   "source": [
    "var ingreso  = 20232\n",
    "\n",
    "var impuesto = (ingreso / 100) * 5\n",
    "\n",
    "var ingreso_p = ingreso - ((ingreso / 100) * 5)\n",
    "\n",
    "var envios = 1016\n",
    "\n",
    "var prima = 3713\n",
    "\n",
    "var daniel = ingreso_p - envios - prima\n",
    "\n",
    "var cant = listOf(ingreso, impuesto, ingreso_p, envios, prima, daniel)\n",
    "\n",
    "var conc = listOf(\"Ingresos\",\"Impuesto\", \"post-Paypal\",\"Envios\",\"Prima\",\"Daniel\")\n",
    "\n",
    "println(\"Ingreso: $ingreso \\nImpuesto Paypal: $impuesto \\nIngreso despues de Paypal: $ingreso_p \\nEnvios: $envios \\nPrima: $prima \\nDaniel: $daniel\")\n",
    "\n",
    "var gEmp = gBar(\"Empresa\", cant, conc)\n",
    "gEmp.graph"
   ]
  },
  {
   "cell_type": "raw",
   "metadata": {},
   "source": [
    "parte de la prima -> 10% \n",
    "\n",
    "sueldo de la prima semanal -> 1200 MXN -> 58.5 USD (20.5 MXN)"
   ]
  },
  {
   "cell_type": "code",
   "execution_count": 25,
   "metadata": {},
   "outputs": [
    {
     "name": "stdout",
     "output_type": "stream",
     "text": [
      "Ingresos: 3713 \n",
      "Su parte: 371 \n",
      "14 semanas: 819.0 \n",
      "Costo: 1190.0 \n",
      "Genera: 2523.0\r\n"
     ]
    },
    {
     "data": {
      "text/html": [
       "   <div id=\"7CYdhA\"></div>\n",
       "   <script type=\"text/javascript\" data-lets-plot-script=\"plot\">\n",
       "       (function() {\n",
       "           var plotSpec={\n",
       "'ggtitle':{\n",
       "'text':\"Prima\"\n",
       "},\n",
       "'mapping':{\n",
       "},\n",
       "'data':{\n",
       "'Conceptos':[\"Ingreso\",\"Su parte\",\"14 semanas\",\"Costo\",\"Genera\"],\n",
       "'Cantidad':[3713.0,371.0,819.0,1190.0,2523.0]\n",
       "},\n",
       "'kind':\"plot\",\n",
       "'scales':[],\n",
       "'layers':[{\n",
       "'stat':\"identity\",\n",
       "'mapping':{\n",
       "'x':\"Conceptos\",\n",
       "'y':\"Cantidad\",\n",
       "'fill':\"Conceptos\"\n",
       "},\n",
       "'data':{\n",
       "},\n",
       "'position':\"stack\",\n",
       "'geom':\"bar\"\n",
       "}]\n",
       "};\n",
       "           var plotContainer = document.getElementById(\"7CYdhA\");\n",
       "           window.letsPlotCall(function() {{\n",
       "               LetsPlot.buildPlotFromProcessedSpecs(plotSpec, -1, -1, plotContainer);\n",
       "           }});\n",
       "       })();    \n",
       "   </script>"
      ]
     },
     "execution_count": 25,
     "metadata": {},
     "output_type": "execute_result"
    }
   ],
   "source": [
    "var iP = 3713 //Ingreso de la prima\n",
    "\n",
    "var pDP = iP / 10 //parte de la prima\n",
    "\n",
    "var sDP = 58.5 //sueldo de la prima\n",
    "\n",
    "var p14 = sDP * 14 //14 semanas de la prima \n",
    "\n",
    "var cP = pDP + p14 //costo de la prima\n",
    "\n",
    "var gan = iP - cP //Ganancias\n",
    "\n",
    "var cant = listOf(iP, pDP, p14, cP, gan)\n",
    "var conc = listOf(\"Ingreso\", \"Su parte\", \"14 semanas\", \"Costo\", \"Genera\")\n",
    "\n",
    "println(\"Ingresos: $iP \\nSu parte: $pDP \\n14 semanas: $p14 \\nCosto: $cP \\nGenera: $gan\")\n",
    "\n",
    "var gPrima = gBar(\"Prima\", cant, conc)\n",
    "gPrima.graph"
   ]
  },
  {
   "cell_type": "code",
   "execution_count": null,
   "metadata": {},
   "outputs": [],
   "source": []
  }
 ],
 "metadata": {
  "kernelspec": {
   "display_name": "Kotlin",
   "language": "kotlin",
   "name": "kotlin"
  },
  "language_info": {
   "codemirror_mode": "text/x-kotlin",
   "file_extension": ".kt",
   "mimetype": "text/x-kotlin",
   "name": "kotlin",
   "pygments_lexer": "kotlin",
   "version": "1.4.0-dev-7568"
  }
 },
 "nbformat": 4,
 "nbformat_minor": 2
}
